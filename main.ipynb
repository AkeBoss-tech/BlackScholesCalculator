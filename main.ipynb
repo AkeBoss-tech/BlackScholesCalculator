{
 "cells": [
  {
   "cell_type": "code",
   "execution_count": 7,
   "metadata": {},
   "outputs": [],
   "source": [
    "# Imports\n",
    "import yfinance as yf\n",
    "from fredapi import Fred"
   ]
  },
  {
   "cell_type": "code",
   "execution_count": 8,
   "metadata": {},
   "outputs": [],
   "source": [
    "import os\n",
    "FED_API_KEY = os.getenv('FED_API_KEY')"
   ]
  },
  {
   "cell_type": "code",
   "execution_count": 10,
   "metadata": {},
   "outputs": [
    {
     "name": "stdout",
     "output_type": "stream",
     "text": [
      "Stock Price: 220.8000030517578\n",
      "Volatility: 0.2214079867061943\n",
      "Risk-Free Rate: 0.0363\n"
     ]
    }
   ],
   "source": [
    "# Fetch stock price\n",
    "stock = yf.Ticker('AAPL')\n",
    "stock_price = stock.history(period=\"1d\")['Close'][0]\n",
    "\n",
    "# Fetch historical data to calculate volatility\n",
    "data = stock.history(period=\"1y\")\n",
    "data['returns'] = data['Close'].pct_change()\n",
    "volatility = data['returns'].std() * (252 ** 0.5)  # Annualized volatility\n",
    "\n",
    "# Fetch risk-free rate (10-year Treasury yield)\n",
    "fred = Fred(api_key=FED_API_KEY)\n",
    "risk_free_rate = fred.get_series('DGS10').iloc[-1] / 100  # Convert to decimal\n",
    "\n",
    "print(\"Stock Price:\", stock_price)\n",
    "print(\"Volatility:\", volatility)\n",
    "print(\"Risk-Free Rate:\", risk_free_rate)"
   ]
  },
  {
   "cell_type": "code",
   "execution_count": 13,
   "metadata": {},
   "outputs": [],
   "source": [
    "from math import log, sqrt, exp\n",
    "from scipy.stats import norm\n",
    "\n",
    "def black_scholes_call(spot, strike, risk_free_rate, time, volatility):\n",
    "    d1 = (log(spot / strike) + time * (risk_free_rate + 0.5 * volatility ** 2)) / (volatility * sqrt(time))\n",
    "    d2 = d1 - volatility * sqrt(time)\n",
    "    return spot * norm.cdf(d1) - strike * exp(-risk_free_rate * time) * norm.cdf(d2)\n",
    "\n",
    "def black_sholes_put(spot, strike, risk_free_rate, time, volatility):\n",
    "    d1 = (log(spot / strike) + time * (risk_free_rate + 0.5 * volatility ** 2)) / (volatility * sqrt(time))\n",
    "    d2 = d1 - volatility * sqrt(time)\n",
    "    return strike * exp(-risk_free_rate * time) * norm.cdf(-d2) - spot * norm.cdf(-d1)"
   ]
  },
  {
   "cell_type": "code",
   "execution_count": 18,
   "metadata": {},
   "outputs": [
    {
     "data": {
      "text/plain": [
       "4.573369650480098"
      ]
     },
     "execution_count": 18,
     "metadata": {},
     "output_type": "execute_result"
    }
   ],
   "source": [
    "black_sholes_put(31, 30, 0.06, 1, 0.5)"
   ]
  }
 ],
 "metadata": {
  "kernelspec": {
   "display_name": "Python 3",
   "language": "python",
   "name": "python3"
  },
  "language_info": {
   "codemirror_mode": {
    "name": "ipython",
    "version": 3
   },
   "file_extension": ".py",
   "mimetype": "text/x-python",
   "name": "python",
   "nbconvert_exporter": "python",
   "pygments_lexer": "ipython3",
   "version": "3.10.8"
  }
 },
 "nbformat": 4,
 "nbformat_minor": 2
}
